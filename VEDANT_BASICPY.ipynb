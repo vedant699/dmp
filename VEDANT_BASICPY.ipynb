{
 "cells": [
  {
   "cell_type": "code",
   "execution_count": 1,
   "id": "f2813a3b-2bb4-4e70-bdff-d493d6210e49",
   "metadata": {},
   "outputs": [
    {
     "name": "stdout",
     "output_type": "stream",
     "text": [
      "[   11   223   435    66    57    68   970   788   900 10000]\n"
     ]
    }
   ],
   "source": [
    "import numpy as np\n",
    "# Creating a NumPy array from a list\n",
    "my_list = [11,223,435,66,57,68,970,788,900,10000]\n",
    "my_array = np.array(my_list)\n",
    "print(my_array)"
   ]
  },
  {
   "cell_type": "code",
   "execution_count": 2,
   "id": "8c80e9e9-02e4-4155-9a2d-4c0d997063cb",
   "metadata": {},
   "outputs": [
    {
     "name": "stdout",
     "output_type": "stream",
     "text": [
      "[32 43 54 65 76 87 98]\n"
     ]
    }
   ],
   "source": [
    "import numpy as np\n",
    "#creating a numpy array from a list\n",
    "my_list = [22,33,44,55,66,77,88]\n",
    "my_array = np.array(my_list)\n",
    "result_array = my_array +10\n",
    "print(result_array)"
   ]
  },
  {
   "cell_type": "code",
   "execution_count": 5,
   "id": "ff081527-5a62-4263-8fce-9d42b8d0e4d5",
   "metadata": {},
   "outputs": [
    {
     "name": "stdout",
     "output_type": "stream",
     "text": [
      "2.2\n"
     ]
    }
   ],
   "source": [
    "a=[55,65,78,89,10,57,66,44,33,22,11,100]\n",
    "s=0\n",
    "for i in range (0,10):\n",
    "  s=s=a[i]\n",
    "  mean=s/10\n",
    "print(mean)"
   ]
  },
  {
   "cell_type": "code",
   "execution_count": 6,
   "id": "0b723cac-bc89-4b2b-8db1-6f86468bc26e",
   "metadata": {},
   "outputs": [
    {
     "name": "stdout",
     "output_type": "stream",
     "text": [
      "10\n"
     ]
    }
   ],
   "source": [
    "a=[1,2,3,4,5,6,7,8,9,10]\n",
    "print(len(a))"
   ]
  },
  {
   "cell_type": "code",
   "execution_count": null,
   "id": "acdc2339-6b16-41f8-a7b9-e676ca15755f",
   "metadata": {},
   "outputs": [],
   "source": []
  }
 ],
 "metadata": {
  "kernelspec": {
   "display_name": "Python 3 (ipykernel)",
   "language": "python",
   "name": "python3"
  },
  "language_info": {
   "codemirror_mode": {
    "name": "ipython",
    "version": 3
   },
   "file_extension": ".py",
   "mimetype": "text/x-python",
   "name": "python",
   "nbconvert_exporter": "python",
   "pygments_lexer": "ipython3",
   "version": "3.12.4"
  }
 },
 "nbformat": 4,
 "nbformat_minor": 5
}
