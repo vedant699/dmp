{
 "cells": [
  {
   "cell_type": "code",
   "execution_count": 1,
   "id": "09ba1566-8440-4523-875e-d53f0ce52f40",
   "metadata": {},
   "outputs": [
    {
     "name": "stdout",
     "output_type": "stream",
     "text": [
      "         NAME  AGE  ROLLNO.   M1  M2  M3  M4 BOARDING STATUS\n",
      "0      ADITYA   19        1   99  88  90  56              HS\n",
      "1       BRACE   19        2   98  97  89  77              DS\n",
      "2     CHANDAN   20        3   97  82  78  77              HS\n",
      "3       SAHIL   18        4   96  45  88  89              DS\n",
      "4     VEDAANT   17        5   95  56  91  45              HS\n",
      "5       ANKIT   16        6   94  66  95  56              DS\n",
      "6       NALIN   17        7   93  77  97  76              HS\n",
      "7     PRATISH   18        8   92  44  88  77              DS\n",
      "8     PRAVEEN   19        9   91  56  56  89              DS\n",
      "9  SUBHRANSHU   10       10  100  10  45  90              DS\n",
      "17.3\n",
      "Average age of students with boarding status 'HS': 18.25\n",
      "Average age of students with boarding status 'DS': 16.666666666666668\n",
      "         NAME  AGE  ROLLNO.   M1  M2  M3  M4 BOARDING STATUS\n",
      "0      ADITYA   19        1  104  88  90  56              HS\n",
      "1       BRACE   19        2   98  97  89  77              DS\n",
      "2     CHANDAN   20        3  102  82  78  77              HS\n",
      "3       SAHIL   18        4   96  45  88  89              DS\n",
      "4     VEDAANT   17        5  100  56  91  45              HS\n",
      "5       ANKIT   16        6   94  66  95  56              DS\n",
      "6       NALIN   17        7   98  77  97  76              HS\n",
      "7     PRATISH   18        8   92  44  88  77              DS\n",
      "8     PRAVEEN   19        9   91  56  56  89              DS\n",
      "9  SUBHRANSHU   10       10  100  10  45  90              DS\n",
      "         NAME  AGE  ROLLNO.   M1  M2  M3  M4 BOARDING STATUS\n",
      "0      ADITYA   19        1  104  88  90  56              HS\n",
      "1       BRACE   19        2  103  97  89  77              DS\n",
      "2     CHANDAN   20        3  102  82  78  77              HS\n",
      "3       SAHIL   18        4  101  45  88  89              DS\n",
      "4     VEDAANT   17        5  100  56  91  45              HS\n",
      "5       ANKIT   16        6   99  66  95  56              DS\n",
      "6       NALIN   17        7   98  77  97  76              HS\n",
      "7     PRATISH   18        8   97  44  88  77              DS\n",
      "8     PRAVEEN   19        9   96  56  56  89              DS\n",
      "9  SUBHRANSHU   10       10  105  10  45  90              DS\n"
     ]
    }
   ],
   "source": [
    "import pandas as pd\n",
    "data14={\"NAME\":['ADITYA','BRACE','CHANDAN','SAHIL','VEDAANT','ANKIT','NALIN','PRATISH','PRAVEEN','SUBHRANSHU'],\"AGE\":[19,19,20,18,17,16,17,18,19,10],\"ROLLNO.\":[1,2,3,4,5,6,7,8,9,10],\"M1\":[99,98,97,96,95,94,93,92,91,100],\"M2\":[88,97,82,45,56,66,77,44,56,10],\"M3\":[90,89,78,88,91,95,97,88,56,45],\"M4\":[56,77,77,89,45,56,76,77,89,90],\"BOARDING STATUS\":['HS','DS','HS','DS','HS','DS','HS','DS','DS','DS']}\n",
    "The_DataFrame=pd.DataFrame(data14)\n",
    "print(The_DataFrame)\n",
    "mean12=The_DataFrame[\"AGE\"].mean()\n",
    "print(mean12)\n",
    "hs_students = The_DataFrame[The_DataFrame['BOARDING STATUS'] == 'HS']\n",
    "\n",
    "# Calculate the average age\n",
    "average_age_hs = hs_students['AGE'].mean()\n",
    "\n",
    "print(\"Average age of students with boarding status 'HS':\", average_age_hs)\n",
    "ds_students = The_DataFrame[The_DataFrame['BOARDING STATUS'] == 'DS']\n",
    "\n",
    "# Calculate the average age\n",
    "average_age_ds = ds_students['AGE'].mean()\n",
    "\n",
    "print(\"Average age of students with boarding status 'DS':\", average_age_ds)\n",
    "The_DataFrame.loc[The_DataFrame['BOARDING STATUS'] == 'HS', 'M1'] += 5\n",
    "\n",
    "print(The_DataFrame)\n",
    "The_DataFrame.loc[The_DataFrame['BOARDING STATUS'] == 'DS', 'M1'] += 5\n",
    "\n",
    "print(The_DataFrame)"
   ]
  },
  {
   "cell_type": "code",
   "execution_count": 2,
   "id": "19639d8b-da70-41f3-9436-3276c94d5981",
   "metadata": {},
   "outputs": [
    {
     "name": "stdout",
     "output_type": "stream",
     "text": [
      "         NAME  AGE  ROLLNO.   M1  M2  M3  M4 BOARDING STATUS\n",
      "0      ADITYA   19        1   99  88  90  56              HS\n",
      "1       BRACE   19        2   98  97  89  77              DS\n",
      "2     CHANDAN   20        3   97  82  78  77              HS\n",
      "3       SAHIL   18        4   96  45  88  89              DS\n",
      "4     VEDAANT   17        5   95  56  91  45              HS\n",
      "5       ANKIT   16        6   94  66  95  56              DS\n",
      "6       NALIN   17        7   93  77  97  76              HS\n",
      "7     PRATISH   18        8   92  44  88  77              DS\n",
      "8     PRAVEEN   19        9   91  56  56  89              DS\n",
      "9  SUBHRANSHU   10       10  100  10  45  90              DS\n",
      "Average age of all the students: 17.3\n"
     ]
    }
   ],
   "source": [
    "import pandas as pd\n",
    "data14={\"NAME\":['ADITYA','BRACE','CHANDAN','SAHIL','VEDAANT','ANKIT','NALIN','PRATISH','PRAVEEN','SUBHRANSHU'],\"AGE\":[19,19,20,18,17,16,17,18,19,10],\"ROLLNO.\":[1,2,3,4,5,6,7,8,9,10],\"M1\":[99,98,97,96,95,94,93,92,91,100],\"M2\":[88,97,82,45,56,66,77,44,56,10],\"M3\":[90,89,78,88,91,95,97,88,56,45],\"M4\":[56,77,77,89,45,56,76,77,89,90],\"BOARDING STATUS\":['HS','DS','HS','DS','HS','DS','HS','DS','DS','DS']}\n",
    "The_DataFrame=pd.DataFrame(data14)\n",
    "print(The_DataFrame)\n",
    "#calculating the average age of all students#\n",
    "mean12=The_DataFrame[\"AGE\"].mean()\n",
    "print(\"Average age of all the students:\",mean12)\n"
   ]
  },
  {
   "cell_type": "code",
   "execution_count": null,
   "id": "c87f6728-0d52-459c-a18c-908126caf3b1",
   "metadata": {},
   "outputs": [],
   "source": []
  }
 ],
 "metadata": {
  "kernelspec": {
   "display_name": "Python 3 (ipykernel)",
   "language": "python",
   "name": "python3"
  },
  "language_info": {
   "codemirror_mode": {
    "name": "ipython",
    "version": 3
   },
   "file_extension": ".py",
   "mimetype": "text/x-python",
   "name": "python",
   "nbconvert_exporter": "python",
   "pygments_lexer": "ipython3",
   "version": "3.12.4"
  }
 },
 "nbformat": 4,
 "nbformat_minor": 5
}
